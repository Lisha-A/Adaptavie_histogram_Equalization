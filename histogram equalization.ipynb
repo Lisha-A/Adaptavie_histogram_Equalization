{
 "cells": [
  {
   "cell_type": "code",
   "execution_count": 45,
   "metadata": {},
   "outputs": [],
   "source": [
    "import cv2\n",
    "import glob\n",
    "import numpy\n",
    "from random import *\n",
    "import os\n",
    "import matplotlib.pyplot as plt\n",
    "other_dir = \"F:\\\\IIT KANPUR MTECH STUDY MATERIAL\\\\THESIS\\\\Data  of Dyslexic and Non Dyslexic Children in Hindi\\\\after CLAHE\" \n",
    "for img in glob.glob(\"F:\\\\IIT KANPUR MTECH STUDY MATERIAL\\\\THESIS\\\\Data  of Dyslexic and Non Dyslexic Children in Hindi\\\\dyslexia data for CLAHE\\\\*.jpg\"):\n",
    "    cv_img = cv2.imread(img,cv2.IMREAD_GRAYSCALE)\n",
    "    #print(cv_img)\n",
    "    #plt.imshow(cv_img, cmap='gray')  # graph it\n",
    "    #plt.show()  # display!\n",
    "    #create a CLAHE object (Arguments are optional).\n",
    "    clahe = cv2.createCLAHE(clipLimit=2.0, tileGridSize=(20,20))\n",
    "    cl1 = clahe.apply(cv_img)\n",
    "    #plt.imshow(cl1, cmap='gray')  # graph it\n",
    "    #plt.show() \n",
    "    name = os.path.splitext(img)[0] + '.jpg'\n",
    "    cv2.imwrite(os.path.join(other_dir,'name.jpg'),cl1)"
   ]
  },
  {
   "cell_type": "code",
   "execution_count": 52,
   "metadata": {},
   "outputs": [],
   "source": [
    "import numpy as np\n",
    "import cv2\n",
    "import glob\n",
    "from random import *\n",
    "all_img = glob.glob(\"F:\\\\IIT KANPUR MTECH STUDY MATERIAL\\\\THESIS\\\\Data  of Dyslexic and Non Dyslexic Children in Hindi\\\\dyslexia data for CLAHE\\\\*.jpg\")\n",
    "#other_dir = \"F:\\\\IIT KANPUR MTECH STUDY MATERIAL\\\\THESIS\\\\Data  of Dyslexic and Non Dyslexic Children in Hindi\\\\Both Data\\\\CLAHE\"\n",
    "for img_id, img_path in enumerate(all_img):\n",
    "    img = cv2.imread(img_path,0)\n",
    "    #print(img_id)\n",
    "\n",
    "    #create a CLAHE object (Arguments are optional).\n",
    "    clahe = cv2.createCLAHE(clipLimit=2.0, tileGridSize=(20,20))\n",
    "    cl1 = clahe.apply(img)\n",
    "    other_dir = \"F:\\\\IIT KANPUR MTECH STUDY MATERIAL\\\\THESIS\\\\Data  of Dyslexic and Non Dyslexic Children in Hindi\\\\after CLAHE\" \n",
    "    cv2.imwrite(f'{other_dir}/clahe_{img_id}.jpg',cl1)"
   ]
  },
  {
   "cell_type": "code",
   "execution_count": null,
   "metadata": {},
   "outputs": [],
   "source": []
  }
 ],
 "metadata": {
  "kernelspec": {
   "display_name": "Python 3",
   "language": "python",
   "name": "python3"
  },
  "language_info": {
   "codemirror_mode": {
    "name": "ipython",
    "version": 3
   },
   "file_extension": ".py",
   "mimetype": "text/x-python",
   "name": "python",
   "nbconvert_exporter": "python",
   "pygments_lexer": "ipython3",
   "version": "3.7.8"
  }
 },
 "nbformat": 4,
 "nbformat_minor": 4
}
